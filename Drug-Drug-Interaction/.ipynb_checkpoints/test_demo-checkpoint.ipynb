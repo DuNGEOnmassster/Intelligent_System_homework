{
 "cells": [
  {
   "cell_type": "code",
   "execution_count": 1,
   "id": "d96cef0d",
   "metadata": {},
   "outputs": [],
   "source": [
    "import numpy as np"
   ]
  },
  {
   "cell_type": "code",
   "execution_count": 5,
   "id": "066dd90f",
   "metadata": {},
   "outputs": [],
   "source": [
    "file_path = \"./ddi_with_type_latest.txt\"\n",
    "with open(file_path, \"r\") as f:\n",
    "    readfile = f.read()\n",
    "reflect_list = readfile.split(sep=\"\\n\")"
   ]
  },
  {
   "cell_type": "code",
   "execution_count": null,
   "id": "43e6feb3",
   "metadata": {},
   "outputs": [],
   "source": [
    "for item in reflect_list:\n",
    "    print(item.split(sep=\"\\t\"))"
   ]
  }
 ],
 "metadata": {
  "kernelspec": {
   "display_name": "Python 3 (ipykernel)",
   "language": "python",
   "name": "python3"
  },
  "language_info": {
   "codemirror_mode": {
    "name": "ipython",
    "version": 3
   },
   "file_extension": ".py",
   "mimetype": "text/x-python",
   "name": "python",
   "nbconvert_exporter": "python",
   "pygments_lexer": "ipython3",
   "version": "3.10.0"
  }
 },
 "nbformat": 4,
 "nbformat_minor": 5
}
