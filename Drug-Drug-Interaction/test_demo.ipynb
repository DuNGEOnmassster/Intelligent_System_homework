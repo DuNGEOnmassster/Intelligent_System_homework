{
 "cells": [
  {
   "cell_type": "code",
   "execution_count": 22,
   "id": "6ac9a2b9",
   "metadata": {},
   "outputs": [],
   "source": [
    "import numpy as np"
   ]
  },
  {
   "cell_type": "code",
   "execution_count": 23,
   "id": "5f101cc6",
   "metadata": {},
   "outputs": [],
   "source": [
    "file_path = \"./ddi_with_type_latest.txt\"\n",
    "with open(file_path, \"r\") as f:\n",
    "    readfile = f.read()"
   ]
  },
  {
   "cell_type": "code",
   "execution_count": 57,
   "id": "2ab0d8fe",
   "metadata": {},
   "outputs": [],
   "source": [
    "reflection_list = []\n",
    "vector_set = set()\n",
    "max_vector = 0\n",
    "for item in readfile.split(sep=\"\\n\"):\n",
    "    if len(item.split(sep=\"\\t\")) == 3:\n",
    "        single_item = item.split(sep=\"\\t\")\n",
    "        reflection_list.append(single_item)\n",
    "        vector_set.add(single_item[1])\n",
    "        vector_set.add(single_item[0])\n",
    "        max_vector = max(max_vector, max(int(single_item[0]), int(single_item[1])))"
   ]
  },
  {
   "cell_type": "markdown",
   "id": "544e8cf3",
   "metadata": {},
   "source": [
    "## Q1 网络中节点和边的数量。"
   ]
  },
  {
   "cell_type": "code",
   "execution_count": 69,
   "id": "861d0622",
   "metadata": {},
   "outputs": [
    {
     "data": {
      "text/plain": [
       "1603"
      ]
     },
     "execution_count": 69,
     "metadata": {},
     "output_type": "execute_result"
    }
   ],
   "source": [
    "# number of nodes\n",
    "len(vector_set)"
   ]
  },
  {
   "cell_type": "code",
   "execution_count": 70,
   "id": "8cd11f43",
   "metadata": {},
   "outputs": [
    {
     "data": {
      "text/plain": [
       "38405"
      ]
     },
     "execution_count": 70,
     "metadata": {},
     "output_type": "execute_result"
    }
   ],
   "source": [
    "# number of edges\n",
    "len(reflection_list)"
   ]
  },
  {
   "cell_type": "markdown",
   "id": "1ecfeb95",
   "metadata": {},
   "source": [
    "## Q2 找出度最大的前20个节点，并计算所有节点的平均度。"
   ]
  },
  {
   "cell_type": "code",
   "execution_count": 118,
   "id": "7e180d48",
   "metadata": {},
   "outputs": [],
   "source": [
    "# Use dict to restore the degree of every nodes\n",
    "node_degree = {str(i):0 for i in range(len(vector_set))}\n",
    "for reflect in reflection_list:\n",
    "    node_degree[reflect[0]] += 1\n",
    "    node_degree[reflect[1]] += 1"
   ]
  },
  {
   "cell_type": "code",
   "execution_count": 77,
   "id": "254be801",
   "metadata": {},
   "outputs": [
    {
     "data": {
      "text/plain": [
       "[('848', 194),\n",
       " ('350', 188),\n",
       " ('870', 186),\n",
       " ('118', 181),\n",
       " ('83', 177),\n",
       " ('972', 176),\n",
       " ('88', 174),\n",
       " ('1440', 173),\n",
       " ('1339', 166),\n",
       " ('446', 165),\n",
       " ('63', 163),\n",
       " ('140', 163),\n",
       " ('22', 162),\n",
       " ('187', 160),\n",
       " ('697', 159),\n",
       " ('441', 158),\n",
       " ('811', 157),\n",
       " ('33', 156),\n",
       " ('169', 155),\n",
       " ('266', 154)]"
      ]
     },
     "execution_count": 77,
     "metadata": {},
     "output_type": "execute_result"
    }
   ],
   "source": [
    "# Order nodes by sum_degree and cut the top20\n",
    "a = sorted(node_degree.items(), key=lambda x: x[1], reverse=True)\n",
    "a[:20]"
   ]
  },
  {
   "cell_type": "code",
   "execution_count": 79,
   "id": "e7fa9664",
   "metadata": {},
   "outputs": [
    {
     "data": {
      "text/plain": [
       "47.91640673736744"
      ]
     },
     "execution_count": 79,
     "metadata": {},
     "output_type": "execute_result"
    }
   ],
   "source": [
    "# Calculate the average degree of all nodes\n",
    "average_degree = sum(node_degree.values())/len(vector_set)\n",
    "average_degree"
   ]
  },
  {
   "cell_type": "markdown",
   "id": "1f285f2a",
   "metadata": {},
   "source": [
    "## Q3 统计网络中共有多少种不同类型的边，类型为47的边有多少条"
   ]
  },
  {
   "cell_type": "code",
   "execution_count": 86,
   "id": "19865a8c",
   "metadata": {},
   "outputs": [],
   "source": [
    "# Count the nums of types\n",
    "# Weight is equal to the index of type!!!\n",
    "types = set()\n",
    "cnt_47 = 0\n",
    "for reflect in reflection_list:\n",
    "    types.add(reflect[2])\n",
    "    if reflect[2] == '47':\n",
    "        cnt_47 += 1"
   ]
  },
  {
   "cell_type": "code",
   "execution_count": 89,
   "id": "00b7a952",
   "metadata": {},
   "outputs": [
    {
     "data": {
      "text/plain": [
       "86"
      ]
     },
     "execution_count": 89,
     "metadata": {},
     "output_type": "execute_result"
    }
   ],
   "source": [
    "# Total nums of different edges\n",
    "len(types)"
   ]
  },
  {
   "cell_type": "code",
   "execution_count": 90,
   "id": "d2bf1db2",
   "metadata": {},
   "outputs": [
    {
     "data": {
      "text/plain": [
       "6864"
      ]
     },
     "execution_count": 90,
     "metadata": {},
     "output_type": "execute_result"
    }
   ],
   "source": [
    "# Nums of edges with weight \"47\"\n",
    "cnt_47"
   ]
  },
  {
   "cell_type": "markdown",
   "id": "7b3153da",
   "metadata": {},
   "source": [
    "## Q4 统计节点度分布,画出度分布图。"
   ]
  },
  {
   "cell_type": "code",
   "execution_count": null,
   "id": "350a258c",
   "metadata": {},
   "outputs": [],
   "source": []
  },
  {
   "cell_type": "markdown",
   "id": "12be6c3c",
   "metadata": {},
   "source": [
    "## Q5 找出给定节点i和j之间的所有最短路径，并输出。"
   ]
  },
  {
   "cell_type": "markdown",
   "id": "e1807a42",
   "metadata": {},
   "source": [
    "#### （8,309）、（67,850）、（990,1256）"
   ]
  },
  {
   "cell_type": "code",
   "execution_count": 116,
   "id": "b842ac79",
   "metadata": {},
   "outputs": [
    {
     "name": "stdout",
     "output_type": "stream",
     "text": [
      "请输入源位置（0 ~ 1602）：8\n",
      "请输入终点位置（0 ~ 1602）：309\n",
      "8 点到 309 点不可达\n"
     ]
    }
   ],
   "source": [
    "# Dijkstra algorithm\n",
    "M = 1e20\n",
    "\n",
    "def generate_matrix(node_cnt, array=[]) -> list:\n",
    "    # Initialize node_cnt * node_cnt Matrix\n",
    "    matrix = [[M for k in range(int(node_cnt))] for i in range(int(node_cnt))]\n",
    "    for i in array:\n",
    "        matrix[i[0]][i[1]] = 1\n",
    "    return matrix\n",
    " \n",
    "def min_index(arr=[], indexs=[]) -> int:\n",
    "    # Calculate the node ordinal of the shortest path in a given node\n",
    "    min_value = arr[0]\n",
    "    index = indexs[0]\n",
    "    for i in indexs:\n",
    "        if arr[i] < min_value:\n",
    "            min_value = arr[i]\n",
    "            index = i\n",
    "    return index\n",
    " \n",
    "def dijkstra(matrix, origin) -> tuple:\n",
    "    # Use Dijkstra algorithm to find the shortest path in a directed graph\n",
    "    assert 0 <= origin < len(matrix) \n",
    "    s = [origin]\n",
    "    dist = matrix[origin]\n",
    "    vs = [i for i in range(len(dist))]\n",
    "    vs.remove(origin)\n",
    "    \n",
    "    p = [-1 if i == M else origin for i in dist]\n",
    " \n",
    "    while len(vs) > 0:\n",
    "        \n",
    "        node = min_index(arr=dist, indexs=vs)\n",
    "        s.append(node)\n",
    "        vs.remove(node)\n",
    "        for i in vs:\n",
    "            if matrix[node][i] != M:\n",
    "                if dist[node] + matrix[node][i] < dist[i]:\n",
    "                    dist[i] = dist[node] + matrix[node][i]\n",
    "                    p[i] = node\n",
    "    \n",
    "    dist[origin] = 0\n",
    "    return dist, p\n",
    " \n",
    "def route(p=[]) -> list:\n",
    "    i = 0\n",
    "    result = []\n",
    "    while i < len(p):\n",
    "        m = len(p) - 1 - i\n",
    "        path = [m]\n",
    "        while p[m] != -1:\n",
    "            path.append(p[m])\n",
    "            m = p[m]\n",
    "        path.reverse()\n",
    "        result.append((len(p) - 1 - i, path))\n",
    "        i += 1\n",
    "    return result\n",
    " \n",
    "if __name__ == '__main__':\n",
    "    node_cnt = len(vector_set)\n",
    "    array = []\n",
    "    for i in reflection_list:\n",
    "        array.append((int(i[0]), int(i[1])))\n",
    "    matrix = generate_matrix(node_cnt=node_cnt, array=array)\n",
    "    start = int(input(u'请输入起始位置（0 ~ %d）：' % (int(node_cnt - 1))))\n",
    "    dist, p = dijkstra(matrix, start)\n",
    "    target = int(input(u'请输入终点位置（0 ~ %d）：' % (int(node_cnt - 1))))\n",
    "    for item in route(p):\n",
    "        if item[0] == target:\n",
    "            if dist[item[0]] != M:\n",
    "                print(\"%d 点到 %d 点的最短距离为 %d，走过的路径为：%s\" % (start, item[0], dist[item[0]], item[1]))\n",
    "            else:\n",
    "                print(\"%d 点到 %d 点不可达\" % (start, item[0]))"
   ]
  },
  {
   "cell_type": "markdown",
   "id": "65172d20",
   "metadata": {},
   "source": [
    "## Q6 求所有节点的聚集系数以及平均聚集系数"
   ]
  },
  {
   "cell_type": "code",
   "execution_count": null,
   "id": "c0301294",
   "metadata": {},
   "outputs": [],
   "source": [
    "# Ei = sum（edge(node2node)）bewteen every node connected with current node i\n",
    "# Ci = (2Ei)/(ki(ki-1))"
   ]
  },
  {
   "cell_type": "code",
   "execution_count": null,
   "id": "d035c9c4",
   "metadata": {},
   "outputs": [],
   "source": []
  },
  {
   "cell_type": "code",
   "execution_count": null,
   "id": "3fc66ce6",
   "metadata": {},
   "outputs": [],
   "source": [
    "## Q7 "
   ]
  }
 ],
 "metadata": {
  "kernelspec": {
   "display_name": "Python 3 (ipykernel)",
   "language": "python",
   "name": "python3"
  },
  "language_info": {
   "codemirror_mode": {
    "name": "ipython",
    "version": 3
   },
   "file_extension": ".py",
   "mimetype": "text/x-python",
   "name": "python",
   "nbconvert_exporter": "python",
   "pygments_lexer": "ipython3",
   "version": "3.10.0"
  }
 },
 "nbformat": 4,
 "nbformat_minor": 5
}
