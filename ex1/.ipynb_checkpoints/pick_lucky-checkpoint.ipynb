{
 "cells": [
  {
   "cell_type": "code",
   "execution_count": 1,
   "metadata": {},
   "outputs": [],
   "source": [
    "import pandas as pd\n",
    "from random import choice"
   ]
  },
  {
   "cell_type": "code",
   "execution_count": 7,
   "metadata": {},
   "outputs": [
    {
     "data": {
      "text/plain": [
       "['王涛',\n",
       " '陈文康',\n",
       " '陈昊哲',\n",
       " '单启航',\n",
       " '商振豪',\n",
       " '杨永楠',\n",
       " '侯雪茹',\n",
       " '韩沛桁',\n",
       " '胡南',\n",
       " '李隆耀',\n",
       " '潘星宇',\n",
       " '邓卓文',\n",
       " '徐绍倡',\n",
       " '李王渊',\n",
       " '任鹏欣',\n",
       " '王正宝',\n",
       " '周骏博',\n",
       " '焦元鸿',\n",
       " '郑名哲',\n",
       " '钟雨哲',\n",
       " '乔迁',\n",
       " '杨宇',\n",
       " '彭麟皓',\n",
       " '刘濮源',\n",
       " '李思原',\n",
       " '黄锦程',\n",
       " '杨莹坤',\n",
       " '何胤融',\n",
       " '王殿仪',\n",
       " '袁煜恒',\n",
       " '周帅康']"
      ]
     },
     "execution_count": 7,
     "metadata": {},
     "output_type": "execute_result"
    }
   ],
   "source": [
    "stu_path = \"./AI_stu.xlsx\"\n",
    "\n",
    "df = pd.read_excel(stu_path)\n",
    "stu_list = df[\"Stu\"].tolist()\n",
    "stu_list"
   ]
  },
  {
   "cell_type": "markdown",
   "metadata": {},
   "source": []
  },
  {
   "cell_type": "code",
   "execution_count": 8,
   "metadata": {},
   "outputs": [
    {
     "name": "stdout",
     "output_type": "stream",
     "text": [
      "刘濮源\n"
     ]
    }
   ],
   "source": [
    "print(choice(stu_list))"
   ]
  },
  {
   "cell_type": "code",
   "execution_count": null,
   "metadata": {},
   "outputs": [],
   "source": []
  }
 ],
 "metadata": {
  "kernelspec": {
   "display_name": "Python 3 (ipykernel)",
   "language": "python",
   "name": "python3"
  },
  "language_info": {
   "codemirror_mode": {
    "name": "ipython",
    "version": 3
   },
   "file_extension": ".py",
   "mimetype": "text/x-python",
   "name": "python",
   "nbconvert_exporter": "python",
   "pygments_lexer": "ipython3",
   "version": "3.10.0"
  },
  "vscode": {
   "interpreter": {
    "hash": "d1a940d2a5a085e4f840c6fa90dace1e4a81d9a7fba180f0fcbb4947149ff9d2"
   }
  }
 },
 "nbformat": 4,
 "nbformat_minor": 2
}
